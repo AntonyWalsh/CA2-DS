{
 "cells": [
  {
   "cell_type": "code",
   "execution_count": 156,
   "id": "90c7f931",
   "metadata": {},
   "outputs": [],
   "source": [
    "import pandas as pd\n",
    "import numpy as np\n",
    "\n",
    "import seaborn as sns\n",
    "import matplotlib.pyplot as plt\n",
    "\n",
    "#import plotly for interactive graphs\n",
    "import plotly.express as px \n"
   ]
  },
  {
   "cell_type": "code",
   "execution_count": 157,
   "id": "7fd63f1c",
   "metadata": {},
   "outputs": [],
   "source": [
    "#Display option to see more columns. Usefull to see all the columns of Dummy variables for Machine Learning\n",
    "pd.set_option('display.max_columns', 120)\n",
    "\n",
    "#make the charts look better for displays with retina resolution \n",
    "%config InlineBackend.figure_format = 'retina'"
   ]
  },
  {
   "cell_type": "code",
   "execution_count": 158,
   "id": "5bf0ab13",
   "metadata": {},
   "outputs": [],
   "source": [
    "#Read in milk collected annual data\n",
    "df_MilkCollected = pd.read_csv('C:\\\\Project CA2\\\\Data\\\\milk products annual.csv')"
   ]
  },
  {
   "cell_type": "code",
   "execution_count": 159,
   "id": "7babb56c",
   "metadata": {},
   "outputs": [
    {
     "data": {
      "text/html": [
       "<div>\n",
       "<style scoped>\n",
       "    .dataframe tbody tr th:only-of-type {\n",
       "        vertical-align: middle;\n",
       "    }\n",
       "\n",
       "    .dataframe tbody tr th {\n",
       "        vertical-align: top;\n",
       "    }\n",
       "\n",
       "    .dataframe thead th {\n",
       "        text-align: right;\n",
       "    }\n",
       "</style>\n",
       "<table border=\"1\" class=\"dataframe\">\n",
       "  <thead>\n",
       "    <tr style=\"text-align: right;\">\n",
       "      <th></th>\n",
       "      <th>DATAFLOW</th>\n",
       "      <th>LAST UPDATE</th>\n",
       "      <th>freq</th>\n",
       "      <th>dairyprod</th>\n",
       "      <th>unit</th>\n",
       "      <th>geo</th>\n",
       "      <th>TIME_PERIOD</th>\n",
       "      <th>OBS_VALUE</th>\n",
       "      <th>OBS_FLAG</th>\n",
       "    </tr>\n",
       "  </thead>\n",
       "  <tbody>\n",
       "    <tr>\n",
       "      <th>0</th>\n",
       "      <td>ESTAT:APRO_MK_COLA(1.0)</td>\n",
       "      <td>30/11/22 23:00:00</td>\n",
       "      <td>A</td>\n",
       "      <td>D1110D</td>\n",
       "      <td>THS_T</td>\n",
       "      <td>AL</td>\n",
       "      <td>2017</td>\n",
       "      <td>57.36</td>\n",
       "      <td>p</td>\n",
       "    </tr>\n",
       "    <tr>\n",
       "      <th>1</th>\n",
       "      <td>ESTAT:APRO_MK_COLA(1.0)</td>\n",
       "      <td>30/11/22 23:00:00</td>\n",
       "      <td>A</td>\n",
       "      <td>D1110D</td>\n",
       "      <td>THS_T</td>\n",
       "      <td>AL</td>\n",
       "      <td>2018</td>\n",
       "      <td>64.39</td>\n",
       "      <td>NaN</td>\n",
       "    </tr>\n",
       "    <tr>\n",
       "      <th>2</th>\n",
       "      <td>ESTAT:APRO_MK_COLA(1.0)</td>\n",
       "      <td>30/11/22 23:00:00</td>\n",
       "      <td>A</td>\n",
       "      <td>D1110D</td>\n",
       "      <td>THS_T</td>\n",
       "      <td>AL</td>\n",
       "      <td>2019</td>\n",
       "      <td>56.82</td>\n",
       "      <td>NaN</td>\n",
       "    </tr>\n",
       "    <tr>\n",
       "      <th>3</th>\n",
       "      <td>ESTAT:APRO_MK_COLA(1.0)</td>\n",
       "      <td>30/11/22 23:00:00</td>\n",
       "      <td>A</td>\n",
       "      <td>D1110D</td>\n",
       "      <td>THS_T</td>\n",
       "      <td>AL</td>\n",
       "      <td>2020</td>\n",
       "      <td>56.27</td>\n",
       "      <td>NaN</td>\n",
       "    </tr>\n",
       "    <tr>\n",
       "      <th>4</th>\n",
       "      <td>ESTAT:APRO_MK_COLA(1.0)</td>\n",
       "      <td>30/11/22 23:00:00</td>\n",
       "      <td>A</td>\n",
       "      <td>D1110D</td>\n",
       "      <td>THS_T</td>\n",
       "      <td>AL</td>\n",
       "      <td>2021</td>\n",
       "      <td>58.94</td>\n",
       "      <td>NaN</td>\n",
       "    </tr>\n",
       "  </tbody>\n",
       "</table>\n",
       "</div>"
      ],
      "text/plain": [
       "                  DATAFLOW        LAST UPDATE freq dairyprod   unit geo  \\\n",
       "0  ESTAT:APRO_MK_COLA(1.0)  30/11/22 23:00:00    A    D1110D  THS_T  AL   \n",
       "1  ESTAT:APRO_MK_COLA(1.0)  30/11/22 23:00:00    A    D1110D  THS_T  AL   \n",
       "2  ESTAT:APRO_MK_COLA(1.0)  30/11/22 23:00:00    A    D1110D  THS_T  AL   \n",
       "3  ESTAT:APRO_MK_COLA(1.0)  30/11/22 23:00:00    A    D1110D  THS_T  AL   \n",
       "4  ESTAT:APRO_MK_COLA(1.0)  30/11/22 23:00:00    A    D1110D  THS_T  AL   \n",
       "\n",
       "   TIME_PERIOD  OBS_VALUE OBS_FLAG  \n",
       "0         2017      57.36        p  \n",
       "1         2018      64.39      NaN  \n",
       "2         2019      56.82      NaN  \n",
       "3         2020      56.27      NaN  \n",
       "4         2021      58.94      NaN  "
      ]
     },
     "execution_count": 159,
     "metadata": {},
     "output_type": "execute_result"
    }
   ],
   "source": [
    "df_MilkCollected.head()"
   ]
  },
  {
   "cell_type": "code",
   "execution_count": 160,
   "id": "49e5881d",
   "metadata": {},
   "outputs": [
    {
     "name": "stdout",
     "output_type": "stream",
     "text": [
      "<class 'pandas.core.frame.DataFrame'>\n",
      "RangeIndex: 9392 entries, 0 to 9391\n",
      "Data columns (total 9 columns):\n",
      " #   Column       Non-Null Count  Dtype  \n",
      "---  ------       --------------  -----  \n",
      " 0   DATAFLOW     9392 non-null   object \n",
      " 1   LAST UPDATE  9392 non-null   object \n",
      " 2   freq         9392 non-null   object \n",
      " 3   dairyprod    9392 non-null   object \n",
      " 4   unit         9392 non-null   object \n",
      " 5   geo          9392 non-null   object \n",
      " 6   TIME_PERIOD  9392 non-null   int64  \n",
      " 7   OBS_VALUE    8334 non-null   float64\n",
      " 8   OBS_FLAG     1831 non-null   object \n",
      "dtypes: float64(1), int64(1), object(7)\n",
      "memory usage: 660.5+ KB\n"
     ]
    }
   ],
   "source": [
    "df_MilkCollected.info()"
   ]
  },
  {
   "cell_type": "code",
   "execution_count": 161,
   "id": "0eab9188",
   "metadata": {},
   "outputs": [],
   "source": [
    "#Drop unwanted columns\n",
    "#These columns have meta information that is constant or not useful \n",
    "df_MilkCollected.drop(['DATAFLOW', 'LAST UPDATE','freq','unit','OBS_FLAG'], axis=1,inplace=True)"
   ]
  },
  {
   "cell_type": "code",
   "execution_count": 162,
   "id": "c68d9ce5",
   "metadata": {},
   "outputs": [
    {
     "data": {
      "text/html": [
       "<div>\n",
       "<style scoped>\n",
       "    .dataframe tbody tr th:only-of-type {\n",
       "        vertical-align: middle;\n",
       "    }\n",
       "\n",
       "    .dataframe tbody tr th {\n",
       "        vertical-align: top;\n",
       "    }\n",
       "\n",
       "    .dataframe thead th {\n",
       "        text-align: right;\n",
       "    }\n",
       "</style>\n",
       "<table border=\"1\" class=\"dataframe\">\n",
       "  <thead>\n",
       "    <tr style=\"text-align: right;\">\n",
       "      <th></th>\n",
       "      <th>dairyprod</th>\n",
       "      <th>geo</th>\n",
       "      <th>TIME_PERIOD</th>\n",
       "      <th>OBS_VALUE</th>\n",
       "    </tr>\n",
       "  </thead>\n",
       "  <tbody>\n",
       "    <tr>\n",
       "      <th>0</th>\n",
       "      <td>D1110D</td>\n",
       "      <td>AL</td>\n",
       "      <td>2017</td>\n",
       "      <td>57.36</td>\n",
       "    </tr>\n",
       "    <tr>\n",
       "      <th>1</th>\n",
       "      <td>D1110D</td>\n",
       "      <td>AL</td>\n",
       "      <td>2018</td>\n",
       "      <td>64.39</td>\n",
       "    </tr>\n",
       "    <tr>\n",
       "      <th>2</th>\n",
       "      <td>D1110D</td>\n",
       "      <td>AL</td>\n",
       "      <td>2019</td>\n",
       "      <td>56.82</td>\n",
       "    </tr>\n",
       "    <tr>\n",
       "      <th>3</th>\n",
       "      <td>D1110D</td>\n",
       "      <td>AL</td>\n",
       "      <td>2020</td>\n",
       "      <td>56.27</td>\n",
       "    </tr>\n",
       "    <tr>\n",
       "      <th>4</th>\n",
       "      <td>D1110D</td>\n",
       "      <td>AL</td>\n",
       "      <td>2021</td>\n",
       "      <td>58.94</td>\n",
       "    </tr>\n",
       "    <tr>\n",
       "      <th>5</th>\n",
       "      <td>D1110D</td>\n",
       "      <td>AT</td>\n",
       "      <td>1995</td>\n",
       "      <td>2290.00</td>\n",
       "    </tr>\n",
       "    <tr>\n",
       "      <th>6</th>\n",
       "      <td>D1110D</td>\n",
       "      <td>AT</td>\n",
       "      <td>1996</td>\n",
       "      <td>2343.00</td>\n",
       "    </tr>\n",
       "    <tr>\n",
       "      <th>7</th>\n",
       "      <td>D1110D</td>\n",
       "      <td>AT</td>\n",
       "      <td>1997</td>\n",
       "      <td>2420.00</td>\n",
       "    </tr>\n",
       "    <tr>\n",
       "      <th>8</th>\n",
       "      <td>D1110D</td>\n",
       "      <td>AT</td>\n",
       "      <td>1998</td>\n",
       "      <td>2430.00</td>\n",
       "    </tr>\n",
       "    <tr>\n",
       "      <th>9</th>\n",
       "      <td>D1110D</td>\n",
       "      <td>AT</td>\n",
       "      <td>1999</td>\n",
       "      <td>2535.00</td>\n",
       "    </tr>\n",
       "    <tr>\n",
       "      <th>10</th>\n",
       "      <td>D1110D</td>\n",
       "      <td>AT</td>\n",
       "      <td>2000</td>\n",
       "      <td>2655.00</td>\n",
       "    </tr>\n",
       "    <tr>\n",
       "      <th>11</th>\n",
       "      <td>D1110D</td>\n",
       "      <td>AT</td>\n",
       "      <td>2001</td>\n",
       "      <td>2651.00</td>\n",
       "    </tr>\n",
       "    <tr>\n",
       "      <th>12</th>\n",
       "      <td>D1110D</td>\n",
       "      <td>AT</td>\n",
       "      <td>2002</td>\n",
       "      <td>2650.00</td>\n",
       "    </tr>\n",
       "    <tr>\n",
       "      <th>13</th>\n",
       "      <td>D1110D</td>\n",
       "      <td>AT</td>\n",
       "      <td>2003</td>\n",
       "      <td>2645.00</td>\n",
       "    </tr>\n",
       "    <tr>\n",
       "      <th>14</th>\n",
       "      <td>D1110D</td>\n",
       "      <td>AT</td>\n",
       "      <td>2004</td>\n",
       "      <td>2618.00</td>\n",
       "    </tr>\n",
       "    <tr>\n",
       "      <th>15</th>\n",
       "      <td>D1110D</td>\n",
       "      <td>AT</td>\n",
       "      <td>2005</td>\n",
       "      <td>2619.00</td>\n",
       "    </tr>\n",
       "    <tr>\n",
       "      <th>16</th>\n",
       "      <td>D1110D</td>\n",
       "      <td>AT</td>\n",
       "      <td>2006</td>\n",
       "      <td>2672.00</td>\n",
       "    </tr>\n",
       "    <tr>\n",
       "      <th>17</th>\n",
       "      <td>D1110D</td>\n",
       "      <td>AT</td>\n",
       "      <td>2007</td>\n",
       "      <td>2661.00</td>\n",
       "    </tr>\n",
       "    <tr>\n",
       "      <th>18</th>\n",
       "      <td>D1110D</td>\n",
       "      <td>AT</td>\n",
       "      <td>2008</td>\n",
       "      <td>2705.00</td>\n",
       "    </tr>\n",
       "    <tr>\n",
       "      <th>19</th>\n",
       "      <td>D1110D</td>\n",
       "      <td>AT</td>\n",
       "      <td>2009</td>\n",
       "      <td>2708.84</td>\n",
       "    </tr>\n",
       "  </tbody>\n",
       "</table>\n",
       "</div>"
      ],
      "text/plain": [
       "   dairyprod geo  TIME_PERIOD  OBS_VALUE\n",
       "0     D1110D  AL         2017      57.36\n",
       "1     D1110D  AL         2018      64.39\n",
       "2     D1110D  AL         2019      56.82\n",
       "3     D1110D  AL         2020      56.27\n",
       "4     D1110D  AL         2021      58.94\n",
       "5     D1110D  AT         1995    2290.00\n",
       "6     D1110D  AT         1996    2343.00\n",
       "7     D1110D  AT         1997    2420.00\n",
       "8     D1110D  AT         1998    2430.00\n",
       "9     D1110D  AT         1999    2535.00\n",
       "10    D1110D  AT         2000    2655.00\n",
       "11    D1110D  AT         2001    2651.00\n",
       "12    D1110D  AT         2002    2650.00\n",
       "13    D1110D  AT         2003    2645.00\n",
       "14    D1110D  AT         2004    2618.00\n",
       "15    D1110D  AT         2005    2619.00\n",
       "16    D1110D  AT         2006    2672.00\n",
       "17    D1110D  AT         2007    2661.00\n",
       "18    D1110D  AT         2008    2705.00\n",
       "19    D1110D  AT         2009    2708.84"
      ]
     },
     "execution_count": 162,
     "metadata": {},
     "output_type": "execute_result"
    }
   ],
   "source": [
    "df_MilkCollected.head(20)"
   ]
  },
  {
   "cell_type": "code",
   "execution_count": 163,
   "id": "b291815e",
   "metadata": {},
   "outputs": [],
   "source": [
    "#Rename colunms to something more meaningful \n",
    "df_MilkCollected = df_MilkCollected.rename(columns={'dairyprod': 'Product', 'geo': 'Geo', 'TIME_PERIOD': 'Year' ,'OBS_VALUE': 'Amount' }) "
   ]
  },
  {
   "cell_type": "code",
   "execution_count": 164,
   "id": "8139589d",
   "metadata": {},
   "outputs": [
    {
     "data": {
      "text/html": [
       "<div>\n",
       "<style scoped>\n",
       "    .dataframe tbody tr th:only-of-type {\n",
       "        vertical-align: middle;\n",
       "    }\n",
       "\n",
       "    .dataframe tbody tr th {\n",
       "        vertical-align: top;\n",
       "    }\n",
       "\n",
       "    .dataframe thead th {\n",
       "        text-align: right;\n",
       "    }\n",
       "</style>\n",
       "<table border=\"1\" class=\"dataframe\">\n",
       "  <thead>\n",
       "    <tr style=\"text-align: right;\">\n",
       "      <th></th>\n",
       "      <th>Year</th>\n",
       "      <th>Amount</th>\n",
       "    </tr>\n",
       "  </thead>\n",
       "  <tbody>\n",
       "    <tr>\n",
       "      <th>count</th>\n",
       "      <td>9392.000000</td>\n",
       "      <td>8334.000000</td>\n",
       "    </tr>\n",
       "    <tr>\n",
       "      <th>mean</th>\n",
       "      <td>2004.290779</td>\n",
       "      <td>1732.849292</td>\n",
       "    </tr>\n",
       "    <tr>\n",
       "      <th>std</th>\n",
       "      <td>13.798807</td>\n",
       "      <td>10104.946443</td>\n",
       "    </tr>\n",
       "    <tr>\n",
       "      <th>min</th>\n",
       "      <td>1968.000000</td>\n",
       "      <td>0.000000</td>\n",
       "    </tr>\n",
       "    <tr>\n",
       "      <th>25%</th>\n",
       "      <td>1996.000000</td>\n",
       "      <td>10.442500</td>\n",
       "    </tr>\n",
       "    <tr>\n",
       "      <th>50%</th>\n",
       "      <td>2008.000000</td>\n",
       "      <td>80.420000</td>\n",
       "    </tr>\n",
       "    <tr>\n",
       "      <th>75%</th>\n",
       "      <td>2015.000000</td>\n",
       "      <td>460.590000</td>\n",
       "    </tr>\n",
       "    <tr>\n",
       "      <th>max</th>\n",
       "      <td>2021.000000</td>\n",
       "      <td>157382.420000</td>\n",
       "    </tr>\n",
       "  </tbody>\n",
       "</table>\n",
       "</div>"
      ],
      "text/plain": [
       "              Year         Amount\n",
       "count  9392.000000    8334.000000\n",
       "mean   2004.290779    1732.849292\n",
       "std      13.798807   10104.946443\n",
       "min    1968.000000       0.000000\n",
       "25%    1996.000000      10.442500\n",
       "50%    2008.000000      80.420000\n",
       "75%    2015.000000     460.590000\n",
       "max    2021.000000  157382.420000"
      ]
     },
     "execution_count": 164,
     "metadata": {},
     "output_type": "execute_result"
    }
   ],
   "source": [
    "#Get summary statistics for the dataframe\n",
    "df_MilkCollected.describe()"
   ]
  },
  {
   "cell_type": "code",
   "execution_count": 165,
   "id": "d8798273",
   "metadata": {},
   "outputs": [],
   "source": [
    "df_MilkCollected_Annual = df_MilkCollected.pivot_table(index = ['Year','Geo'], columns = ['Product'], values ='Amount')"
   ]
  },
  {
   "cell_type": "code",
   "execution_count": 166,
   "id": "585addf3",
   "metadata": {},
   "outputs": [
    {
     "data": {
      "text/html": [
       "<div>\n",
       "<style scoped>\n",
       "    .dataframe tbody tr th:only-of-type {\n",
       "        vertical-align: middle;\n",
       "    }\n",
       "\n",
       "    .dataframe tbody tr th {\n",
       "        vertical-align: top;\n",
       "    }\n",
       "\n",
       "    .dataframe thead th {\n",
       "        text-align: right;\n",
       "    }\n",
       "</style>\n",
       "<table border=\"1\" class=\"dataframe\">\n",
       "  <thead>\n",
       "    <tr style=\"text-align: right;\">\n",
       "      <th></th>\n",
       "      <th>Product</th>\n",
       "      <th>D1110D</th>\n",
       "      <th>D1200DME</th>\n",
       "      <th>D2100</th>\n",
       "      <th>D2200V</th>\n",
       "      <th>D3100_X_3113</th>\n",
       "      <th>D3113</th>\n",
       "      <th>D3200</th>\n",
       "      <th>D4100</th>\n",
       "      <th>D6000</th>\n",
       "      <th>D7121</th>\n",
       "    </tr>\n",
       "    <tr>\n",
       "      <th>Year</th>\n",
       "      <th>Geo</th>\n",
       "      <th></th>\n",
       "      <th></th>\n",
       "      <th></th>\n",
       "      <th></th>\n",
       "      <th></th>\n",
       "      <th></th>\n",
       "      <th></th>\n",
       "      <th></th>\n",
       "      <th></th>\n",
       "      <th></th>\n",
       "    </tr>\n",
       "  </thead>\n",
       "  <tbody>\n",
       "    <tr>\n",
       "      <th rowspan=\"5\" valign=\"top\">1968</th>\n",
       "      <th>BE</th>\n",
       "      <td>2909.55</td>\n",
       "      <td>NaN</td>\n",
       "      <td>579.00</td>\n",
       "      <td>6.80</td>\n",
       "      <td>19.13</td>\n",
       "      <td>121.08</td>\n",
       "      <td>36.36</td>\n",
       "      <td>NaN</td>\n",
       "      <td>76.21</td>\n",
       "      <td>31.81</td>\n",
       "    </tr>\n",
       "    <tr>\n",
       "      <th>DE</th>\n",
       "      <td>18318.09</td>\n",
       "      <td>NaN</td>\n",
       "      <td>3138.00</td>\n",
       "      <td>185.56</td>\n",
       "      <td>27.84</td>\n",
       "      <td>409.00</td>\n",
       "      <td>443.02</td>\n",
       "      <td>NaN</td>\n",
       "      <td>523.58</td>\n",
       "      <td>438.48</td>\n",
       "    </tr>\n",
       "    <tr>\n",
       "      <th>DK</th>\n",
       "      <td>4767.03</td>\n",
       "      <td>NaN</td>\n",
       "      <td>NaN</td>\n",
       "      <td>32.44</td>\n",
       "      <td>NaN</td>\n",
       "      <td>NaN</td>\n",
       "      <td>NaN</td>\n",
       "      <td>NaN</td>\n",
       "      <td>159.55</td>\n",
       "      <td>105.50</td>\n",
       "    </tr>\n",
       "    <tr>\n",
       "      <th>FR</th>\n",
       "      <td>19245.86</td>\n",
       "      <td>NaN</td>\n",
       "      <td>2370.18</td>\n",
       "      <td>44.14</td>\n",
       "      <td>52.19</td>\n",
       "      <td>692.48</td>\n",
       "      <td>190.71</td>\n",
       "      <td>NaN</td>\n",
       "      <td>500.50</td>\n",
       "      <td>649.87</td>\n",
       "    </tr>\n",
       "    <tr>\n",
       "      <th>IE</th>\n",
       "      <td>NaN</td>\n",
       "      <td>NaN</td>\n",
       "      <td>NaN</td>\n",
       "      <td>NaN</td>\n",
       "      <td>NaN</td>\n",
       "      <td>NaN</td>\n",
       "      <td>NaN</td>\n",
       "      <td>NaN</td>\n",
       "      <td>73.25</td>\n",
       "      <td>NaN</td>\n",
       "    </tr>\n",
       "  </tbody>\n",
       "</table>\n",
       "</div>"
      ],
      "text/plain": [
       "Product     D1110D  D1200DME    D2100  D2200V  D3100_X_3113   D3113   D3200  \\\n",
       "Year Geo                                                                      \n",
       "1968 BE    2909.55       NaN   579.00    6.80         19.13  121.08   36.36   \n",
       "     DE   18318.09       NaN  3138.00  185.56         27.84  409.00  443.02   \n",
       "     DK    4767.03       NaN      NaN   32.44           NaN     NaN     NaN   \n",
       "     FR   19245.86       NaN  2370.18   44.14         52.19  692.48  190.71   \n",
       "     IE        NaN       NaN      NaN     NaN           NaN     NaN     NaN   \n",
       "\n",
       "Product   D4100   D6000   D7121  \n",
       "Year Geo                         \n",
       "1968 BE     NaN   76.21   31.81  \n",
       "     DE     NaN  523.58  438.48  \n",
       "     DK     NaN  159.55  105.50  \n",
       "     FR     NaN  500.50  649.87  \n",
       "     IE     NaN   73.25     NaN  "
      ]
     },
     "execution_count": 166,
     "metadata": {},
     "output_type": "execute_result"
    }
   ],
   "source": [
    "df_MilkCollected_Annual.head()"
   ]
  },
  {
   "cell_type": "code",
   "execution_count": 167,
   "id": "4834e86b",
   "metadata": {},
   "outputs": [],
   "source": [
    "#Reset the index\n",
    "df_MilkCollected_Annual = df_MilkCollected_Annual.reset_index( )"
   ]
  },
  {
   "cell_type": "code",
   "execution_count": 168,
   "id": "08d80bd7",
   "metadata": {},
   "outputs": [
    {
     "data": {
      "text/html": [
       "<div>\n",
       "<style scoped>\n",
       "    .dataframe tbody tr th:only-of-type {\n",
       "        vertical-align: middle;\n",
       "    }\n",
       "\n",
       "    .dataframe tbody tr th {\n",
       "        vertical-align: top;\n",
       "    }\n",
       "\n",
       "    .dataframe thead th {\n",
       "        text-align: right;\n",
       "    }\n",
       "</style>\n",
       "<table border=\"1\" class=\"dataframe\">\n",
       "  <thead>\n",
       "    <tr style=\"text-align: right;\">\n",
       "      <th>Product</th>\n",
       "      <th>Year</th>\n",
       "      <th>Geo</th>\n",
       "      <th>D1110D</th>\n",
       "      <th>D1200DME</th>\n",
       "      <th>D2100</th>\n",
       "      <th>D2200V</th>\n",
       "      <th>D3100_X_3113</th>\n",
       "      <th>D3113</th>\n",
       "      <th>D3200</th>\n",
       "      <th>D4100</th>\n",
       "      <th>D6000</th>\n",
       "      <th>D7121</th>\n",
       "    </tr>\n",
       "  </thead>\n",
       "  <tbody>\n",
       "    <tr>\n",
       "      <th>0</th>\n",
       "      <td>1968</td>\n",
       "      <td>BE</td>\n",
       "      <td>2909.55</td>\n",
       "      <td>NaN</td>\n",
       "      <td>579.00</td>\n",
       "      <td>6.80</td>\n",
       "      <td>19.13</td>\n",
       "      <td>121.08</td>\n",
       "      <td>36.36</td>\n",
       "      <td>NaN</td>\n",
       "      <td>76.21</td>\n",
       "      <td>31.81</td>\n",
       "    </tr>\n",
       "    <tr>\n",
       "      <th>1</th>\n",
       "      <td>1968</td>\n",
       "      <td>DE</td>\n",
       "      <td>18318.09</td>\n",
       "      <td>NaN</td>\n",
       "      <td>3138.00</td>\n",
       "      <td>185.56</td>\n",
       "      <td>27.84</td>\n",
       "      <td>409.00</td>\n",
       "      <td>443.02</td>\n",
       "      <td>NaN</td>\n",
       "      <td>523.58</td>\n",
       "      <td>438.48</td>\n",
       "    </tr>\n",
       "    <tr>\n",
       "      <th>2</th>\n",
       "      <td>1968</td>\n",
       "      <td>DK</td>\n",
       "      <td>4767.03</td>\n",
       "      <td>NaN</td>\n",
       "      <td>NaN</td>\n",
       "      <td>32.44</td>\n",
       "      <td>NaN</td>\n",
       "      <td>NaN</td>\n",
       "      <td>NaN</td>\n",
       "      <td>NaN</td>\n",
       "      <td>159.55</td>\n",
       "      <td>105.50</td>\n",
       "    </tr>\n",
       "    <tr>\n",
       "      <th>3</th>\n",
       "      <td>1968</td>\n",
       "      <td>FR</td>\n",
       "      <td>19245.86</td>\n",
       "      <td>NaN</td>\n",
       "      <td>2370.18</td>\n",
       "      <td>44.14</td>\n",
       "      <td>52.19</td>\n",
       "      <td>692.48</td>\n",
       "      <td>190.71</td>\n",
       "      <td>NaN</td>\n",
       "      <td>500.50</td>\n",
       "      <td>649.87</td>\n",
       "    </tr>\n",
       "    <tr>\n",
       "      <th>4</th>\n",
       "      <td>1968</td>\n",
       "      <td>IE</td>\n",
       "      <td>NaN</td>\n",
       "      <td>NaN</td>\n",
       "      <td>NaN</td>\n",
       "      <td>NaN</td>\n",
       "      <td>NaN</td>\n",
       "      <td>NaN</td>\n",
       "      <td>NaN</td>\n",
       "      <td>NaN</td>\n",
       "      <td>73.25</td>\n",
       "      <td>NaN</td>\n",
       "    </tr>\n",
       "  </tbody>\n",
       "</table>\n",
       "</div>"
      ],
      "text/plain": [
       "Product  Year Geo    D1110D  D1200DME    D2100  D2200V  D3100_X_3113   D3113  \\\n",
       "0        1968  BE   2909.55       NaN   579.00    6.80         19.13  121.08   \n",
       "1        1968  DE  18318.09       NaN  3138.00  185.56         27.84  409.00   \n",
       "2        1968  DK   4767.03       NaN      NaN   32.44           NaN     NaN   \n",
       "3        1968  FR  19245.86       NaN  2370.18   44.14         52.19  692.48   \n",
       "4        1968  IE       NaN       NaN      NaN     NaN           NaN     NaN   \n",
       "\n",
       "Product   D3200  D4100   D6000   D7121  \n",
       "0         36.36    NaN   76.21   31.81  \n",
       "1        443.02    NaN  523.58  438.48  \n",
       "2           NaN    NaN  159.55  105.50  \n",
       "3        190.71    NaN  500.50  649.87  \n",
       "4           NaN    NaN   73.25     NaN  "
      ]
     },
     "execution_count": 168,
     "metadata": {},
     "output_type": "execute_result"
    }
   ],
   "source": [
    "df_MilkCollected_Annual.head()"
   ]
  },
  {
   "cell_type": "code",
   "execution_count": 169,
   "id": "2a900fce",
   "metadata": {},
   "outputs": [],
   "source": [
    "#sns.boxplot(df_MilkCollected_Annual=df_MilkCollected_Annual['Milk'],showmeans=True) "
   ]
  },
  {
   "cell_type": "code",
   "execution_count": 170,
   "id": "42525f73",
   "metadata": {},
   "outputs": [],
   "source": [
    "\n",
    "#sns.set(rc = {'figure.figsize':(12,8)})\n",
    "#sns.set(font_scale=1)\n",
    "#myfig = sns.lineplot(x = 'Year', y = 'D6000', data = x)\n",
    "#plt.show()"
   ]
  },
  {
   "cell_type": "code",
   "execution_count": 171,
   "id": "d561d5ec",
   "metadata": {},
   "outputs": [],
   "source": [
    "#Drop unwanted columns\n",
    "#Dropping columns that are NOT Milk Deliveries, Drinking Milk, Cream, Butter and Cheese produced\n",
    "df_MilkCollected_Annual.drop(['D1200DME','D3100_X_3113','D3113','D3200','D4100'], axis=1,inplace=True)"
   ]
  },
  {
   "cell_type": "code",
   "execution_count": 172,
   "id": "6887fd0a",
   "metadata": {},
   "outputs": [],
   "source": [
    "#Rename product columns to something more meaningful \n",
    "df_MilkCollected_Annual = df_MilkCollected_Annual.rename(columns={'D1110D': 'Raw Milk Deliveries', 'D2100': 'Milk', 'D2200V': 'Cream' ,'D6000': 'Butter','D7121':'Cheese' }) "
   ]
  },
  {
   "cell_type": "code",
   "execution_count": 173,
   "id": "edf1e705",
   "metadata": {},
   "outputs": [
    {
     "data": {
      "text/html": [
       "<div>\n",
       "<style scoped>\n",
       "    .dataframe tbody tr th:only-of-type {\n",
       "        vertical-align: middle;\n",
       "    }\n",
       "\n",
       "    .dataframe tbody tr th {\n",
       "        vertical-align: top;\n",
       "    }\n",
       "\n",
       "    .dataframe thead th {\n",
       "        text-align: right;\n",
       "    }\n",
       "</style>\n",
       "<table border=\"1\" class=\"dataframe\">\n",
       "  <thead>\n",
       "    <tr style=\"text-align: right;\">\n",
       "      <th>Product</th>\n",
       "      <th>Year</th>\n",
       "      <th>Geo</th>\n",
       "      <th>Raw Milk Deliveries</th>\n",
       "      <th>Milk</th>\n",
       "      <th>Cream</th>\n",
       "      <th>Butter</th>\n",
       "      <th>Cheese</th>\n",
       "    </tr>\n",
       "  </thead>\n",
       "  <tbody>\n",
       "    <tr>\n",
       "      <th>0</th>\n",
       "      <td>1968</td>\n",
       "      <td>BE</td>\n",
       "      <td>2909.55</td>\n",
       "      <td>579.00</td>\n",
       "      <td>6.80</td>\n",
       "      <td>76.21</td>\n",
       "      <td>31.81</td>\n",
       "    </tr>\n",
       "    <tr>\n",
       "      <th>1</th>\n",
       "      <td>1968</td>\n",
       "      <td>DE</td>\n",
       "      <td>18318.09</td>\n",
       "      <td>3138.00</td>\n",
       "      <td>185.56</td>\n",
       "      <td>523.58</td>\n",
       "      <td>438.48</td>\n",
       "    </tr>\n",
       "    <tr>\n",
       "      <th>2</th>\n",
       "      <td>1968</td>\n",
       "      <td>DK</td>\n",
       "      <td>4767.03</td>\n",
       "      <td>NaN</td>\n",
       "      <td>32.44</td>\n",
       "      <td>159.55</td>\n",
       "      <td>105.50</td>\n",
       "    </tr>\n",
       "    <tr>\n",
       "      <th>3</th>\n",
       "      <td>1968</td>\n",
       "      <td>FR</td>\n",
       "      <td>19245.86</td>\n",
       "      <td>2370.18</td>\n",
       "      <td>44.14</td>\n",
       "      <td>500.50</td>\n",
       "      <td>649.87</td>\n",
       "    </tr>\n",
       "    <tr>\n",
       "      <th>4</th>\n",
       "      <td>1968</td>\n",
       "      <td>IE</td>\n",
       "      <td>NaN</td>\n",
       "      <td>NaN</td>\n",
       "      <td>NaN</td>\n",
       "      <td>73.25</td>\n",
       "      <td>NaN</td>\n",
       "    </tr>\n",
       "  </tbody>\n",
       "</table>\n",
       "</div>"
      ],
      "text/plain": [
       "Product  Year Geo  Raw Milk Deliveries     Milk   Cream  Butter  Cheese\n",
       "0        1968  BE              2909.55   579.00    6.80   76.21   31.81\n",
       "1        1968  DE             18318.09  3138.00  185.56  523.58  438.48\n",
       "2        1968  DK              4767.03      NaN   32.44  159.55  105.50\n",
       "3        1968  FR             19245.86  2370.18   44.14  500.50  649.87\n",
       "4        1968  IE                  NaN      NaN     NaN   73.25     NaN"
      ]
     },
     "execution_count": 173,
     "metadata": {},
     "output_type": "execute_result"
    }
   ],
   "source": [
    "df_MilkCollected_Annual.head()"
   ]
  },
  {
   "cell_type": "code",
   "execution_count": 174,
   "id": "f5109a4f",
   "metadata": {},
   "outputs": [
    {
     "data": {
      "text/plain": [
       "<AxesSubplot:xlabel='Cream', ylabel='Geo'>"
      ]
     },
     "execution_count": 174,
     "metadata": {},
     "output_type": "execute_result"
    },
    {
     "data": {
      "image/png": "[encoded data removed]",
      "text/plain": [
       "<Figure size 432x288 with 1 Axes>"
      ]
     },
     "metadata": {
      "image/png": {
       "height": 263,
       "width": 426
      },
      "needs_background": "light"
     },
     "output_type": "display_data"
    }
   ],
   "source": [
    "#First look at a box plot\n",
    "sns.boxplot(x=df_MilkCollected_Annual['Cream'],y = df_MilkCollected_Annual['Geo'],showmeans=True) "
   ]
  },
  {
   "cell_type": "code",
   "execution_count": 175,
   "id": "5d6f07c7",
   "metadata": {},
   "outputs": [],
   "source": [
    "#Read in milk collected monthly data\n",
    "df_MilkCollected = pd.read_csv('C:\\\\Project CA2\\\\Data\\\\milk products monthly.csv')"
   ]
  },
  {
   "cell_type": "code",
   "execution_count": 176,
   "id": "0aa51a83",
   "metadata": {},
   "outputs": [
    {
     "data": {
      "text/html": [
       "<div>\n",
       "<style scoped>\n",
       "    .dataframe tbody tr th:only-of-type {\n",
       "        vertical-align: middle;\n",
       "    }\n",
       "\n",
       "    .dataframe tbody tr th {\n",
       "        vertical-align: top;\n",
       "    }\n",
       "\n",
       "    .dataframe thead th {\n",
       "        text-align: right;\n",
       "    }\n",
       "</style>\n",
       "<table border=\"1\" class=\"dataframe\">\n",
       "  <thead>\n",
       "    <tr style=\"text-align: right;\">\n",
       "      <th></th>\n",
       "      <th>DATAFLOW</th>\n",
       "      <th>LAST UPDATE</th>\n",
       "      <th>freq</th>\n",
       "      <th>dairyprod</th>\n",
       "      <th>unit</th>\n",
       "      <th>geo</th>\n",
       "      <th>TIME_PERIOD</th>\n",
       "      <th>OBS_VALUE</th>\n",
       "      <th>OBS_FLAG</th>\n",
       "    </tr>\n",
       "  </thead>\n",
       "  <tbody>\n",
       "    <tr>\n",
       "      <th>0</th>\n",
       "      <td>ESTAT:APRO_MK_COLM(1.0)</td>\n",
       "      <td>02/12/22 23:00:00</td>\n",
       "      <td>M</td>\n",
       "      <td>D1110D</td>\n",
       "      <td>PC_FAT</td>\n",
       "      <td>AL</td>\n",
       "      <td>2015-01</td>\n",
       "      <td>0.0</td>\n",
       "      <td>NaN</td>\n",
       "    </tr>\n",
       "    <tr>\n",
       "      <th>1</th>\n",
       "      <td>ESTAT:APRO_MK_COLM(1.0)</td>\n",
       "      <td>02/12/22 23:00:00</td>\n",
       "      <td>M</td>\n",
       "      <td>D1110D</td>\n",
       "      <td>PC_FAT</td>\n",
       "      <td>AL</td>\n",
       "      <td>2015-02</td>\n",
       "      <td>0.0</td>\n",
       "      <td>NaN</td>\n",
       "    </tr>\n",
       "    <tr>\n",
       "      <th>2</th>\n",
       "      <td>ESTAT:APRO_MK_COLM(1.0)</td>\n",
       "      <td>02/12/22 23:00:00</td>\n",
       "      <td>M</td>\n",
       "      <td>D1110D</td>\n",
       "      <td>PC_FAT</td>\n",
       "      <td>AL</td>\n",
       "      <td>2015-03</td>\n",
       "      <td>0.0</td>\n",
       "      <td>NaN</td>\n",
       "    </tr>\n",
       "    <tr>\n",
       "      <th>3</th>\n",
       "      <td>ESTAT:APRO_MK_COLM(1.0)</td>\n",
       "      <td>02/12/22 23:00:00</td>\n",
       "      <td>M</td>\n",
       "      <td>D1110D</td>\n",
       "      <td>PC_FAT</td>\n",
       "      <td>AL</td>\n",
       "      <td>2015-04</td>\n",
       "      <td>0.0</td>\n",
       "      <td>NaN</td>\n",
       "    </tr>\n",
       "    <tr>\n",
       "      <th>4</th>\n",
       "      <td>ESTAT:APRO_MK_COLM(1.0)</td>\n",
       "      <td>02/12/22 23:00:00</td>\n",
       "      <td>M</td>\n",
       "      <td>D1110D</td>\n",
       "      <td>PC_FAT</td>\n",
       "      <td>AL</td>\n",
       "      <td>2015-05</td>\n",
       "      <td>0.0</td>\n",
       "      <td>NaN</td>\n",
       "    </tr>\n",
       "  </tbody>\n",
       "</table>\n",
       "</div>"
      ],
      "text/plain": [
       "                  DATAFLOW        LAST UPDATE freq dairyprod    unit geo  \\\n",
       "0  ESTAT:APRO_MK_COLM(1.0)  02/12/22 23:00:00    M    D1110D  PC_FAT  AL   \n",
       "1  ESTAT:APRO_MK_COLM(1.0)  02/12/22 23:00:00    M    D1110D  PC_FAT  AL   \n",
       "2  ESTAT:APRO_MK_COLM(1.0)  02/12/22 23:00:00    M    D1110D  PC_FAT  AL   \n",
       "3  ESTAT:APRO_MK_COLM(1.0)  02/12/22 23:00:00    M    D1110D  PC_FAT  AL   \n",
       "4  ESTAT:APRO_MK_COLM(1.0)  02/12/22 23:00:00    M    D1110D  PC_FAT  AL   \n",
       "\n",
       "  TIME_PERIOD  OBS_VALUE OBS_FLAG  \n",
       "0     2015-01        0.0      NaN  \n",
       "1     2015-02        0.0      NaN  \n",
       "2     2015-03        0.0      NaN  \n",
       "3     2015-04        0.0      NaN  \n",
       "4     2015-05        0.0      NaN  "
      ]
     },
     "execution_count": 176,
     "metadata": {},
     "output_type": "execute_result"
    }
   ],
   "source": [
    "df_MilkCollected.head()"
   ]
  },
  {
   "cell_type": "code",
   "execution_count": 177,
   "id": "426865ef",
   "metadata": {},
   "outputs": [],
   "source": [
    "#Drop unwanted columns\n",
    "#These columns have meta information that is constant or not useful \n",
    "df_MilkCollected.drop(['DATAFLOW', 'LAST UPDATE','freq','unit','OBS_FLAG'], axis=1,inplace=True)"
   ]
  },
  {
   "cell_type": "code",
   "execution_count": 178,
   "id": "31db2715",
   "metadata": {},
   "outputs": [],
   "source": [
    "#Rename colunms to something more meaningful \n",
    "df_MilkCollected = df_MilkCollected.rename(columns={'dairyprod': 'Product', 'geo': 'Geo', 'TIME_PERIOD': 'Year' ,'OBS_VALUE': 'Amount' }) "
   ]
  },
  {
   "cell_type": "code",
   "execution_count": 179,
   "id": "e27a6643",
   "metadata": {},
   "outputs": [],
   "source": [
    "df_MilkCollected_Monthly = df_MilkCollected.pivot_table(index = ['Year','Geo'], columns = ['Product'], values ='Amount')"
   ]
  },
  {
   "cell_type": "code",
   "execution_count": 180,
   "id": "3562d7a6",
   "metadata": {},
   "outputs": [],
   "source": [
    "#Reset the index\n",
    "df_MilkCollected_Monthly = df_MilkCollected_Monthly.reset_index( )"
   ]
  },
  {
   "cell_type": "code",
   "execution_count": 181,
   "id": "8551556b",
   "metadata": {},
   "outputs": [],
   "source": [
    "#Drop unwanted columns\n",
    "#Dropping columns that are NOT Milk Deliveries, Drinking Milk, Cream, Butter and Cheese produced\n",
    "df_MilkCollected_Monthly.drop(['D1200DME','D3100_X_3113','D3113','D3200','D4100'], axis=1,inplace=True)"
   ]
  },
  {
   "cell_type": "code",
   "execution_count": 182,
   "id": "af0d4f19",
   "metadata": {},
   "outputs": [],
   "source": [
    "#Rename product columns to something more meaningful \n",
    "df_MilkCollected_Monthly = df_MilkCollected_Monthly.rename(columns={'D1110D': 'Raw Milk Deliveries', 'D2100': 'Milk', 'D2200V': 'Cream' ,'D6000': 'Butter','D7121':'Cheese' }) "
   ]
  },
  {
   "cell_type": "code",
   "execution_count": 183,
   "id": "e0ce1645",
   "metadata": {},
   "outputs": [
    {
     "data": {
      "text/html": [
       "<div>\n",
       "<style scoped>\n",
       "    .dataframe tbody tr th:only-of-type {\n",
       "        vertical-align: middle;\n",
       "    }\n",
       "\n",
       "    .dataframe tbody tr th {\n",
       "        vertical-align: top;\n",
       "    }\n",
       "\n",
       "    .dataframe thead th {\n",
       "        text-align: right;\n",
       "    }\n",
       "</style>\n",
       "<table border=\"1\" class=\"dataframe\">\n",
       "  <thead>\n",
       "    <tr style=\"text-align: right;\">\n",
       "      <th>Product</th>\n",
       "      <th>Year</th>\n",
       "      <th>Geo</th>\n",
       "      <th>Raw Milk Deliveries</th>\n",
       "      <th>Milk</th>\n",
       "      <th>Cream</th>\n",
       "      <th>Butter</th>\n",
       "      <th>Cheese</th>\n",
       "    </tr>\n",
       "  </thead>\n",
       "  <tbody>\n",
       "    <tr>\n",
       "      <th>0</th>\n",
       "      <td>1968-01</td>\n",
       "      <td>BE</td>\n",
       "      <td>80.860</td>\n",
       "      <td>49.00</td>\n",
       "      <td>0.44</td>\n",
       "      <td>3.26</td>\n",
       "      <td>2.91</td>\n",
       "    </tr>\n",
       "    <tr>\n",
       "      <th>1</th>\n",
       "      <td>1968-01</td>\n",
       "      <td>DE</td>\n",
       "      <td>691.500</td>\n",
       "      <td>251.00</td>\n",
       "      <td>11.24</td>\n",
       "      <td>41.09</td>\n",
       "      <td>33.96</td>\n",
       "    </tr>\n",
       "    <tr>\n",
       "      <th>2</th>\n",
       "      <td>1968-01</td>\n",
       "      <td>DK</td>\n",
       "      <td>173.130</td>\n",
       "      <td>NaN</td>\n",
       "      <td>2.58</td>\n",
       "      <td>11.38</td>\n",
       "      <td>8.78</td>\n",
       "    </tr>\n",
       "    <tr>\n",
       "      <th>3</th>\n",
       "      <td>1968-01</td>\n",
       "      <td>FR</td>\n",
       "      <td>636.175</td>\n",
       "      <td>221.36</td>\n",
       "      <td>3.01</td>\n",
       "      <td>30.97</td>\n",
       "      <td>48.23</td>\n",
       "    </tr>\n",
       "    <tr>\n",
       "      <th>4</th>\n",
       "      <td>1968-01</td>\n",
       "      <td>IE</td>\n",
       "      <td>NaN</td>\n",
       "      <td>NaN</td>\n",
       "      <td>NaN</td>\n",
       "      <td>1.16</td>\n",
       "      <td>NaN</td>\n",
       "    </tr>\n",
       "  </tbody>\n",
       "</table>\n",
       "</div>"
      ],
      "text/plain": [
       "Product     Year Geo  Raw Milk Deliveries    Milk  Cream  Butter  Cheese\n",
       "0        1968-01  BE               80.860   49.00   0.44    3.26    2.91\n",
       "1        1968-01  DE              691.500  251.00  11.24   41.09   33.96\n",
       "2        1968-01  DK              173.130     NaN   2.58   11.38    8.78\n",
       "3        1968-01  FR              636.175  221.36   3.01   30.97   48.23\n",
       "4        1968-01  IE                  NaN     NaN    NaN    1.16     NaN"
      ]
     },
     "execution_count": 183,
     "metadata": {},
     "output_type": "execute_result"
    }
   ],
   "source": [
    "df_MilkCollected_Monthly.head()"
   ]
  },
  {
   "cell_type": "code",
   "execution_count": 184,
   "id": "f175819e",
   "metadata": {},
   "outputs": [],
   "source": [
    "#Read in file with Country, Alpha 2 and Alpha 3 codes\n",
    "df_CountryCode = pd.read_csv('C:\\\\Project CA2\\\\Data\\\\ISO Codes.csv')"
   ]
  },
  {
   "cell_type": "code",
   "execution_count": 185,
   "id": "53d86500",
   "metadata": {},
   "outputs": [
    {
     "data": {
      "text/html": [
       "<div>\n",
       "<style scoped>\n",
       "    .dataframe tbody tr th:only-of-type {\n",
       "        vertical-align: middle;\n",
       "    }\n",
       "\n",
       "    .dataframe tbody tr th {\n",
       "        vertical-align: top;\n",
       "    }\n",
       "\n",
       "    .dataframe thead th {\n",
       "        text-align: right;\n",
       "    }\n",
       "</style>\n",
       "<table border=\"1\" class=\"dataframe\">\n",
       "  <thead>\n",
       "    <tr style=\"text-align: right;\">\n",
       "      <th></th>\n",
       "      <th>Country</th>\n",
       "      <th>Geo</th>\n",
       "      <th>Code</th>\n",
       "    </tr>\n",
       "  </thead>\n",
       "  <tbody>\n",
       "    <tr>\n",
       "      <th>0</th>\n",
       "      <td>Albania</td>\n",
       "      <td>AL</td>\n",
       "      <td>ALB</td>\n",
       "    </tr>\n",
       "    <tr>\n",
       "      <th>1</th>\n",
       "      <td>Algeria</td>\n",
       "      <td>DZ</td>\n",
       "      <td>DZA</td>\n",
       "    </tr>\n",
       "    <tr>\n",
       "      <th>2</th>\n",
       "      <td>American Samoa</td>\n",
       "      <td>AS</td>\n",
       "      <td>ASM</td>\n",
       "    </tr>\n",
       "    <tr>\n",
       "      <th>3</th>\n",
       "      <td>Andorra</td>\n",
       "      <td>AD</td>\n",
       "      <td>AND</td>\n",
       "    </tr>\n",
       "    <tr>\n",
       "      <th>4</th>\n",
       "      <td>Angola</td>\n",
       "      <td>AO</td>\n",
       "      <td>AGO</td>\n",
       "    </tr>\n",
       "  </tbody>\n",
       "</table>\n",
       "</div>"
      ],
      "text/plain": [
       "          Country Geo Code\n",
       "0         Albania  AL  ALB\n",
       "1         Algeria  DZ  DZA\n",
       "2  American Samoa  AS  ASM\n",
       "3         Andorra  AD  AND\n",
       "4          Angola  AO  AGO"
      ]
     },
     "execution_count": 185,
     "metadata": {},
     "output_type": "execute_result"
    }
   ],
   "source": [
    "df_CountryCode.head()"
   ]
  },
  {
   "cell_type": "code",
   "execution_count": 186,
   "id": "0405dfba",
   "metadata": {},
   "outputs": [
    {
     "data": {
      "text/plain": [
       "(1072, 7)"
      ]
     },
     "execution_count": 186,
     "metadata": {},
     "output_type": "execute_result"
    }
   ],
   "source": [
    "df_MilkCollected_Annual.shape"
   ]
  },
  {
   "cell_type": "code",
   "execution_count": 187,
   "id": "6a073f1e",
   "metadata": {},
   "outputs": [],
   "source": [
    "df_MilkCollected_Annual = pd.merge(df_CountryCode,df_MilkCollected_Annual,on='Geo')"
   ]
  },
  {
   "cell_type": "code",
   "execution_count": 188,
   "id": "7a0814eb",
   "metadata": {},
   "outputs": [
    {
     "data": {
      "text/html": [
       "<div>\n",
       "<style scoped>\n",
       "    .dataframe tbody tr th:only-of-type {\n",
       "        vertical-align: middle;\n",
       "    }\n",
       "\n",
       "    .dataframe tbody tr th {\n",
       "        vertical-align: top;\n",
       "    }\n",
       "\n",
       "    .dataframe thead th {\n",
       "        text-align: right;\n",
       "    }\n",
       "</style>\n",
       "<table border=\"1\" class=\"dataframe\">\n",
       "  <thead>\n",
       "    <tr style=\"text-align: right;\">\n",
       "      <th></th>\n",
       "      <th>Country</th>\n",
       "      <th>Geo</th>\n",
       "      <th>Code</th>\n",
       "      <th>Year</th>\n",
       "      <th>Raw Milk Deliveries</th>\n",
       "      <th>Milk</th>\n",
       "      <th>Cream</th>\n",
       "      <th>Butter</th>\n",
       "      <th>Cheese</th>\n",
       "    </tr>\n",
       "  </thead>\n",
       "  <tbody>\n",
       "    <tr>\n",
       "      <th>0</th>\n",
       "      <td>Albania</td>\n",
       "      <td>AL</td>\n",
       "      <td>ALB</td>\n",
       "      <td>2017</td>\n",
       "      <td>57.36</td>\n",
       "      <td>8.93</td>\n",
       "      <td>0.21</td>\n",
       "      <td>1.65</td>\n",
       "      <td>3.82</td>\n",
       "    </tr>\n",
       "    <tr>\n",
       "      <th>1</th>\n",
       "      <td>Albania</td>\n",
       "      <td>AL</td>\n",
       "      <td>ALB</td>\n",
       "      <td>2018</td>\n",
       "      <td>64.39</td>\n",
       "      <td>13.47</td>\n",
       "      <td>0.46</td>\n",
       "      <td>2.63</td>\n",
       "      <td>3.91</td>\n",
       "    </tr>\n",
       "    <tr>\n",
       "      <th>2</th>\n",
       "      <td>Albania</td>\n",
       "      <td>AL</td>\n",
       "      <td>ALB</td>\n",
       "      <td>2019</td>\n",
       "      <td>56.82</td>\n",
       "      <td>10.15</td>\n",
       "      <td>0.23</td>\n",
       "      <td>0.42</td>\n",
       "      <td>2.28</td>\n",
       "    </tr>\n",
       "    <tr>\n",
       "      <th>3</th>\n",
       "      <td>Albania</td>\n",
       "      <td>AL</td>\n",
       "      <td>ALB</td>\n",
       "      <td>2020</td>\n",
       "      <td>56.27</td>\n",
       "      <td>14.48</td>\n",
       "      <td>0.29</td>\n",
       "      <td>0.51</td>\n",
       "      <td>3.15</td>\n",
       "    </tr>\n",
       "    <tr>\n",
       "      <th>4</th>\n",
       "      <td>Albania</td>\n",
       "      <td>AL</td>\n",
       "      <td>ALB</td>\n",
       "      <td>2021</td>\n",
       "      <td>58.94</td>\n",
       "      <td>12.19</td>\n",
       "      <td>0.29</td>\n",
       "      <td>0.63</td>\n",
       "      <td>3.84</td>\n",
       "    </tr>\n",
       "  </tbody>\n",
       "</table>\n",
       "</div>"
      ],
      "text/plain": [
       "   Country Geo Code  Year  Raw Milk Deliveries   Milk  Cream  Butter  Cheese\n",
       "0  Albania  AL  ALB  2017                57.36   8.93   0.21    1.65    3.82\n",
       "1  Albania  AL  ALB  2018                64.39  13.47   0.46    2.63    3.91\n",
       "2  Albania  AL  ALB  2019                56.82  10.15   0.23    0.42    2.28\n",
       "3  Albania  AL  ALB  2020                56.27  14.48   0.29    0.51    3.15\n",
       "4  Albania  AL  ALB  2021                58.94  12.19   0.29    0.63    3.84"
      ]
     },
     "execution_count": 188,
     "metadata": {},
     "output_type": "execute_result"
    }
   ],
   "source": [
    "df_MilkCollected_Annual.head()"
   ]
  },
  {
   "cell_type": "code",
   "execution_count": 189,
   "id": "65ad7e5f",
   "metadata": {},
   "outputs": [
    {
     "data": {
      "text/html": [
       "<div>\n",
       "<style scoped>\n",
       "    .dataframe tbody tr th:only-of-type {\n",
       "        vertical-align: middle;\n",
       "    }\n",
       "\n",
       "    .dataframe tbody tr th {\n",
       "        vertical-align: top;\n",
       "    }\n",
       "\n",
       "    .dataframe thead th {\n",
       "        text-align: right;\n",
       "    }\n",
       "</style>\n",
       "<table border=\"1\" class=\"dataframe\">\n",
       "  <thead>\n",
       "    <tr style=\"text-align: right;\">\n",
       "      <th></th>\n",
       "      <th>Country</th>\n",
       "      <th>Geo</th>\n",
       "      <th>Code</th>\n",
       "      <th>Year</th>\n",
       "      <th>Raw Milk Deliveries</th>\n",
       "      <th>Milk</th>\n",
       "      <th>Cream</th>\n",
       "      <th>Butter</th>\n",
       "      <th>Cheese</th>\n",
       "    </tr>\n",
       "  </thead>\n",
       "  <tbody>\n",
       "    <tr>\n",
       "      <th>2</th>\n",
       "      <td>Albania</td>\n",
       "      <td>AL</td>\n",
       "      <td>ALB</td>\n",
       "      <td>2019</td>\n",
       "      <td>56.82</td>\n",
       "      <td>10.15</td>\n",
       "      <td>0.23</td>\n",
       "      <td>0.42</td>\n",
       "      <td>2.28</td>\n",
       "    </tr>\n",
       "    <tr>\n",
       "      <th>29</th>\n",
       "      <td>Austria</td>\n",
       "      <td>AT</td>\n",
       "      <td>AUT</td>\n",
       "      <td>2019</td>\n",
       "      <td>3139.80</td>\n",
       "      <td>784.77</td>\n",
       "      <td>72.94</td>\n",
       "      <td>36.53</td>\n",
       "      <td>205.06</td>\n",
       "    </tr>\n",
       "    <tr>\n",
       "      <th>83</th>\n",
       "      <td>Belgium</td>\n",
       "      <td>BE</td>\n",
       "      <td>BEL</td>\n",
       "      <td>2019</td>\n",
       "      <td>4288.22</td>\n",
       "      <td>676.46</td>\n",
       "      <td>253.97</td>\n",
       "      <td>111.96</td>\n",
       "      <td>104.87</td>\n",
       "    </tr>\n",
       "    <tr>\n",
       "      <th>93</th>\n",
       "      <td>Bosnia and Herzegovina</td>\n",
       "      <td>BA</td>\n",
       "      <td>BIH</td>\n",
       "      <td>2019</td>\n",
       "      <td>260.76</td>\n",
       "      <td>151.28</td>\n",
       "      <td>22.51</td>\n",
       "      <td>1.60</td>\n",
       "      <td>7.90</td>\n",
       "    </tr>\n",
       "    <tr>\n",
       "      <th>108</th>\n",
       "      <td>Bulgaria</td>\n",
       "      <td>BG</td>\n",
       "      <td>BGR</td>\n",
       "      <td>2019</td>\n",
       "      <td>658.77</td>\n",
       "      <td>74.90</td>\n",
       "      <td>2.79</td>\n",
       "      <td>1.05</td>\n",
       "      <td>82.82</td>\n",
       "    </tr>\n",
       "  </tbody>\n",
       "</table>\n",
       "</div>"
      ],
      "text/plain": [
       "                    Country Geo Code  Year  Raw Milk Deliveries    Milk  \\\n",
       "2                   Albania  AL  ALB  2019                56.82   10.15   \n",
       "29                  Austria  AT  AUT  2019              3139.80  784.77   \n",
       "83                  Belgium  BE  BEL  2019              4288.22  676.46   \n",
       "93   Bosnia and Herzegovina  BA  BIH  2019               260.76  151.28   \n",
       "108                Bulgaria  BG  BGR  2019               658.77   74.90   \n",
       "\n",
       "      Cream  Butter  Cheese  \n",
       "2      0.23    0.42    2.28  \n",
       "29    72.94   36.53  205.06  \n",
       "83   253.97  111.96  104.87  \n",
       "93    22.51    1.60    7.90  \n",
       "108    2.79    1.05   82.82  "
      ]
     },
     "execution_count": 189,
     "metadata": {},
     "output_type": "execute_result"
    }
   ],
   "source": [
    "x = df_MilkCollected_Annual.query(\"Year==2019\")\n",
    "x.head()"
   ]
  },
  {
   "cell_type": "code",
   "execution_count": 190,
   "id": "cc444aae",
   "metadata": {
    "scrolled": false
   },
   "outputs": [
    {
     "data": {
      "application/vnd.plotly.v1+json": {
       "config": {
        "plotlyServerURL": "https://plot.ly"
       },
       "data": [
        {
         "coloraxis": "coloraxis",
         "geo": "geo",
         "hovertemplate": "<b>%{hovertext}</b><br><br>Code=%{location}<br>Butter=%{z}<extra></extra>",
         "hovertext": [
          "Albania",
          "Austria",
          "Belgium",
          "Bosnia and Herzegovina",
          "Bulgaria",
          "Croatia",
          "Cyprus",
          "Czech Republic",
          "Denmark",
          "Estonia",
          "Finland",
          "France",
          "Germany",
          "Hungary",
          "Iceland",
          "Ireland",
          "Italy",
          "Latvia",
          "Lithuania",
          "Luxembourg",
          "Macedonia, the former Yugoslav Republic of",
          "Malta",
          "Montenegro",
          "Netherlands",
          "Norway",
          "Poland",
          "Portugal",
          "Romania",
          "Serbia",
          "Slovakia",
          "Slovenia",
          "Spain",
          "Sweden",
          "Switzerland",
          "Turkey",
          "United Kingdom"
         ],
         "locations": [
          "ALB",
          "AUT",
          "BEL",
          "BIH",
          "BGR",
          "HRV",
          "CYP",
          "CZE",
          "DNK",
          "EST",
          "FIN",
          "FRA",
          "DEU",
          "HUN",
          "ISL",
          "IRL",
          "ITA",
          "LVA",
          "LTU",
          "LUX",
          "MKD",
          "MLT",
          "MNE",
          "NLD",
          "NOR",
          "POL",
          "PRT",
          "ROU",
          "SRB",
          "SVK",
          "SVN",
          "ESP",
          "SWE",
          "CHE",
          "TUR",
          "GBR"
         ],
         "name": "",
         "type": "choropleth",
         "z": [
          0.42,
          36.53,
          111.96,
          1.6,
          1.05,
          4.58,
          0,
          26.14,
          74.7,
          5.2,
          60.9,
          414.21,
          497.1,
          8.63,
          2.54,
          251.07,
          96.7,
          3.28,
          14.43,
          null,
          1,
          0,
          0.19,
          136.4,
          20,
          224.61,
          30.49,
          10.65,
          5.18,
          9.9,
          2.54,
          44.42,
          17.17,
          42.52,
          73.8,
          187.9
         ]
        }
       ],
       "layout": {
        "coloraxis": {
         "colorbar": {
          "title": {
           "text": "Butter"
          }
         },
         "colorscale": [
          [
           0,
           "#0d0887"
          ],
          [
           0.1111111111111111,
           "#46039f"
          ],
          [
           0.2222222222222222,
           "#7201a8"
          ],
          [
           0.3333333333333333,
           "#9c179e"
          ],
          [
           0.4444444444444444,
           "#bd3786"
          ],
          [
           0.5555555555555556,
           "#d8576b"
          ],
          [
           0.6666666666666666,
           "#ed7953"
          ],
          [
           0.7777777777777778,
           "#fb9f3a"
          ],
          [
           0.8888888888888888,
           "#fdca26"
          ],
          [
           1,
           "#f0f921"
          ]
         ]
        },
        "geo": {
         "center": {},
         "domain": {
          "x": [
           0,
           1
          ],
          "y": [
           0,
           1
          ]
         },
         "scope": "europe"
        },
        "legend": {
         "tracegroupgap": 0
        },
        "margin": {
         "t": 60
        },
        "template": {
         "data": {
          "bar": [
           {
            "error_x": {
             "color": "#2a3f5f"
            },
            "error_y": {
             "color": "#2a3f5f"
            },
            "marker": {
             "line": {
              "color": "#E5ECF6",
              "width": 0.5
             },
             "pattern": {
              "fillmode": "overlay",
              "size": 10,
              "solidity": 0.2
             }
            },
            "type": "bar"
           }
          ],
          "barpolar": [
           {
            "marker": {
             "line": {
              "color": "#E5ECF6",
              "width": 0.5
             },
             "pattern": {
              "fillmode": "overlay",
              "size": 10,
              "solidity": 0.2
             }
            },
            "type": "barpolar"
           }
          ],
          "carpet": [
           {
            "aaxis": {
             "endlinecolor": "#2a3f5f",
             "gridcolor": "white",
             "linecolor": "white",
             "minorgridcolor": "white",
             "startlinecolor": "#2a3f5f"
            },
            "baxis": {
             "endlinecolor": "#2a3f5f",
             "gridcolor": "white",
             "linecolor": "white",
             "minorgridcolor": "white",
             "startlinecolor": "#2a3f5f"
            },
            "type": "carpet"
           }
          ],
          "choropleth": [
           {
            "colorbar": {
             "outlinewidth": 0,
             "ticks": ""
            },
            "type": "choropleth"
           }
          ],
          "contour": [
           {
            "colorbar": {
             "outlinewidth": 0,
             "ticks": ""
            },
            "colorscale": [
             [
              0,
              "#0d0887"
             ],
             [
              0.1111111111111111,
              "#46039f"
             ],
             [
              0.2222222222222222,
              "#7201a8"
             ],
             [
              0.3333333333333333,
              "#9c179e"
             ],
             [
              0.4444444444444444,
              "#bd3786"
             ],
             [
              0.5555555555555556,
              "#d8576b"
             ],
             [
              0.6666666666666666,
              "#ed7953"
             ],
             [
              0.7777777777777778,
              "#fb9f3a"
             ],
             [
              0.8888888888888888,
              "#fdca26"
             ],
             [
              1,
              "#f0f921"
             ]
            ],
            "type": "contour"
           }
          ],
          "contourcarpet": [
           {
            "colorbar": {
             "outlinewidth": 0,
             "ticks": ""
            },
            "type": "contourcarpet"
           }
          ],
          "heatmap": [
           {
            "colorbar": {
             "outlinewidth": 0,
             "ticks": ""
            },
            "colorscale": [
             [
              0,
              "#0d0887"
             ],
             [
              0.1111111111111111,
              "#46039f"
             ],
             [
              0.2222222222222222,
              "#7201a8"
             ],
             [
              0.3333333333333333,
              "#9c179e"
             ],
             [
              0.4444444444444444,
              "#bd3786"
             ],
             [
              0.5555555555555556,
              "#d8576b"
             ],
             [
              0.6666666666666666,
              "#ed7953"
             ],
             [
              0.7777777777777778,
              "#fb9f3a"
             ],
             [
              0.8888888888888888,
              "#fdca26"
             ],
             [
              1,
              "#f0f921"
             ]
            ],
            "type": "heatmap"
           }
          ],
          "heatmapgl": [
           {
            "colorbar": {
             "outlinewidth": 0,
             "ticks": ""
            },
            "colorscale": [
             [
              0,
              "#0d0887"
             ],
             [
              0.1111111111111111,
              "#46039f"
             ],
             [
              0.2222222222222222,
              "#7201a8"
             ],
             [
              0.3333333333333333,
              "#9c179e"
             ],
             [
              0.4444444444444444,
              "#bd3786"
             ],
             [
              0.5555555555555556,
              "#d8576b"
             ],
             [
              0.6666666666666666,
              "#ed7953"
             ],
             [
              0.7777777777777778,
              "#fb9f3a"
             ],
             [
              0.8888888888888888,
              "#fdca26"
             ],
             [
              1,
              "#f0f921"
             ]
            ],
            "type": "heatmapgl"
           }
          ],
          "histogram": [
           {
            "marker": {
             "pattern": {
              "fillmode": "overlay",
              "size": 10,
              "solidity": 0.2
             }
            },
            "type": "histogram"
           }
          ],
          "histogram2d": [
           {
            "colorbar": {
             "outlinewidth": 0,
             "ticks": ""
            },
            "colorscale": [
             [
              0,
              "#0d0887"
             ],
             [
              0.1111111111111111,
              "#46039f"
             ],
             [
              0.2222222222222222,
              "#7201a8"
             ],
             [
              0.3333333333333333,
              "#9c179e"
             ],
             [
              0.4444444444444444,
              "#bd3786"
             ],
             [
              0.5555555555555556,
              "#d8576b"
             ],
             [
              0.6666666666666666,
              "#ed7953"
             ],
             [
              0.7777777777777778,
              "#fb9f3a"
             ],
             [
              0.8888888888888888,
              "#fdca26"
             ],
             [
              1,
              "#f0f921"
             ]
            ],
            "type": "histogram2d"
           }
          ],
          "histogram2dcontour": [
           {
            "colorbar": {
             "outlinewidth": 0,
             "ticks": ""
            },
            "colorscale": [
             [
              0,
              "#0d0887"
             ],
             [
              0.1111111111111111,
              "#46039f"
             ],
             [
              0.2222222222222222,
              "#7201a8"
             ],
             [
              0.3333333333333333,
              "#9c179e"
             ],
             [
              0.4444444444444444,
              "#bd3786"
             ],
             [
              0.5555555555555556,
              "#d8576b"
             ],
             [
              0.6666666666666666,
              "#ed7953"
             ],
             [
              0.7777777777777778,
              "#fb9f3a"
             ],
             [
              0.8888888888888888,
              "#fdca26"
             ],
             [
              1,
              "#f0f921"
             ]
            ],
            "type": "histogram2dcontour"
           }
          ],
          "mesh3d": [
           {
            "colorbar": {
             "outlinewidth": 0,
             "ticks": ""
            },
            "type": "mesh3d"
           }
          ],
          "parcoords": [
           {
            "line": {
             "colorbar": {
              "outlinewidth": 0,
              "ticks": ""
             }
            },
            "type": "parcoords"
           }
          ],
          "pie": [
           {
            "automargin": true,
            "type": "pie"
           }
          ],
          "scatter": [
           {
            "marker": {
             "colorbar": {
              "outlinewidth": 0,
              "ticks": ""
             }
            },
            "type": "scatter"
           }
          ],
          "scatter3d": [
           {
            "line": {
             "colorbar": {
              "outlinewidth": 0,
              "ticks": ""
             }
            },
            "marker": {
             "colorbar": {
              "outlinewidth": 0,
              "ticks": ""
             }
            },
            "type": "scatter3d"
           }
          ],
          "scattercarpet": [
           {
            "marker": {
             "colorbar": {
              "outlinewidth": 0,
              "ticks": ""
             }
            },
            "type": "scattercarpet"
           }
          ],
          "scattergeo": [
           {
            "marker": {
             "colorbar": {
              "outlinewidth": 0,
              "ticks": ""
             }
            },
            "type": "scattergeo"
           }
          ],
          "scattergl": [
           {
            "marker": {
             "colorbar": {
              "outlinewidth": 0,
              "ticks": ""
             }
            },
            "type": "scattergl"
           }
          ],
          "scattermapbox": [
           {
            "marker": {
             "colorbar": {
              "outlinewidth": 0,
              "ticks": ""
             }
            },
            "type": "scattermapbox"
           }
          ],
          "scatterpolar": [
           {
            "marker": {
             "colorbar": {
              "outlinewidth": 0,
              "ticks": ""
             }
            },
            "type": "scatterpolar"
           }
          ],
          "scatterpolargl": [
           {
            "marker": {
             "colorbar": {
              "outlinewidth": 0,
              "ticks": ""
             }
            },
            "type": "scatterpolargl"
           }
          ],
          "scatterternary": [
           {
            "marker": {
             "colorbar": {
              "outlinewidth": 0,
              "ticks": ""
             }
            },
            "type": "scatterternary"
           }
          ],
          "surface": [
           {
            "colorbar": {
             "outlinewidth": 0,
             "ticks": ""
            },
            "colorscale": [
             [
              0,
              "#0d0887"
             ],
             [
              0.1111111111111111,
              "#46039f"
             ],
             [
              0.2222222222222222,
              "#7201a8"
             ],
             [
              0.3333333333333333,
              "#9c179e"
             ],
             [
              0.4444444444444444,
              "#bd3786"
             ],
             [
              0.5555555555555556,
              "#d8576b"
             ],
             [
              0.6666666666666666,
              "#ed7953"
             ],
             [
              0.7777777777777778,
              "#fb9f3a"
             ],
             [
              0.8888888888888888,
              "#fdca26"
             ],
             [
              1,
              "#f0f921"
             ]
            ],
            "type": "surface"
           }
          ],
          "table": [
           {
            "cells": {
             "fill": {
              "color": "#EBF0F8"
             },
             "line": {
              "color": "white"
             }
            },
            "header": {
             "fill": {
              "color": "#C8D4E3"
             },
             "line": {
              "color": "white"
             }
            },
            "type": "table"
           }
          ]
         },
         "layout": {
          "annotationdefaults": {
           "arrowcolor": "#2a3f5f",
           "arrowhead": 0,
           "arrowwidth": 1
          },
          "autotypenumbers": "strict",
          "coloraxis": {
           "colorbar": {
            "outlinewidth": 0,
            "ticks": ""
           }
          },
          "colorscale": {
           "diverging": [
            [
             0,
             "#8e0152"
            ],
            [
             0.1,
             "#c51b7d"
            ],
            [
             0.2,
             "#de77ae"
            ],
            [
             0.3,
             "#f1b6da"
            ],
            [
             0.4,
             "#fde0ef"
            ],
            [
             0.5,
             "#f7f7f7"
            ],
            [
             0.6,
             "#e6f5d0"
            ],
            [
             0.7,
             "#b8e186"
            ],
            [
             0.8,
             "#7fbc41"
            ],
            [
             0.9,
             "#4d9221"
            ],
            [
             1,
             "#276419"
            ]
           ],
           "sequential": [
            [
             0,
             "#0d0887"
            ],
            [
             0.1111111111111111,
             "#46039f"
            ],
            [
             0.2222222222222222,
             "#7201a8"
            ],
            [
             0.3333333333333333,
             "#9c179e"
            ],
            [
             0.4444444444444444,
             "#bd3786"
            ],
            [
             0.5555555555555556,
             "#d8576b"
            ],
            [
             0.6666666666666666,
             "#ed7953"
            ],
            [
             0.7777777777777778,
             "#fb9f3a"
            ],
            [
             0.8888888888888888,
             "#fdca26"
            ],
            [
             1,
             "#f0f921"
            ]
           ],
           "sequentialminus": [
            [
             0,
             "#0d0887"
            ],
            [
             0.1111111111111111,
             "#46039f"
            ],
            [
             0.2222222222222222,
             "#7201a8"
            ],
            [
             0.3333333333333333,
             "#9c179e"
            ],
            [
             0.4444444444444444,
             "#bd3786"
            ],
            [
             0.5555555555555556,
             "#d8576b"
            ],
            [
             0.6666666666666666,
             "#ed7953"
            ],
            [
             0.7777777777777778,
             "#fb9f3a"
            ],
            [
             0.8888888888888888,
             "#fdca26"
            ],
            [
             1,
             "#f0f921"
            ]
           ]
          },
          "colorway": [
           "#636efa",
           "#EF553B",
           "#00cc96",
           "#ab63fa",
           "#FFA15A",
           "#19d3f3",
           "#FF6692",
           "#B6E880",
           "#FF97FF",
           "#FECB52"
          ],
          "font": {
           "color": "#2a3f5f"
          },
          "geo": {
           "bgcolor": "white",
           "lakecolor": "white",
           "landcolor": "#E5ECF6",
           "showlakes": true,
           "showland": true,
           "subunitcolor": "white"
          },
          "hoverlabel": {
           "align": "left"
          },
          "hovermode": "closest",
          "mapbox": {
           "style": "light"
          },
          "paper_bgcolor": "white",
          "plot_bgcolor": "#E5ECF6",
          "polar": {
           "angularaxis": {
            "gridcolor": "white",
            "linecolor": "white",
            "ticks": ""
           },
           "bgcolor": "#E5ECF6",
           "radialaxis": {
            "gridcolor": "white",
            "linecolor": "white",
            "ticks": ""
           }
          },
          "scene": {
           "xaxis": {
            "backgroundcolor": "#E5ECF6",
            "gridcolor": "white",
            "gridwidth": 2,
            "linecolor": "white",
            "showbackground": true,
            "ticks": "",
            "zerolinecolor": "white"
           },
           "yaxis": {
            "backgroundcolor": "#E5ECF6",
            "gridcolor": "white",
            "gridwidth": 2,
            "linecolor": "white",
            "showbackground": true,
            "ticks": "",
            "zerolinecolor": "white"
           },
           "zaxis": {
            "backgroundcolor": "#E5ECF6",
            "gridcolor": "white",
            "gridwidth": 2,
            "linecolor": "white",
            "showbackground": true,
            "ticks": "",
            "zerolinecolor": "white"
           }
          },
          "shapedefaults": {
           "line": {
            "color": "#2a3f5f"
           }
          },
          "ternary": {
           "aaxis": {
            "gridcolor": "white",
            "linecolor": "white",
            "ticks": ""
           },
           "baxis": {
            "gridcolor": "white",
            "linecolor": "white",
            "ticks": ""
           },
           "bgcolor": "#E5ECF6",
           "caxis": {
            "gridcolor": "white",
            "linecolor": "white",
            "ticks": ""
           }
          },
          "title": {
           "x": 0.05
          },
          "xaxis": {
           "automargin": true,
           "gridcolor": "white",
           "linecolor": "white",
           "ticks": "",
           "title": {
            "standoff": 15
           },
           "zerolinecolor": "white",
           "zerolinewidth": 2
          },
          "yaxis": {
           "automargin": true,
           "gridcolor": "white",
           "linecolor": "white",
           "ticks": "",
           "title": {
            "standoff": 15
           },
           "zerolinecolor": "white",
           "zerolinewidth": 2
          }
         }
        },
        "title": {
         "text": "Butter Produced - 2019"
        }
       }
      },
      "text/html": [
       "<div>                            <div id=\"8d9c330d-3c69-40ab-ac0d-52c3333b56cd\" class=\"plotly-graph-div\" style=\"height:525px; width:100%;\"></div>            <script type=\"text/javascript\">                require([\"plotly\"], function(Plotly) {                    window.PLOTLYENV=window.PLOTLYENV || {};                                    if (document.getElementById(\"8d9c330d-3c69-40ab-ac0d-52c3333b56cd\")) {                    Plotly.newPlot(                        \"8d9c330d-3c69-40ab-ac0d-52c3333b56cd\",                        [{\"coloraxis\":\"coloraxis\",\"geo\":\"geo\",\"hovertemplate\":\"<b>%{hovertext}</b><br><br>Code=%{location}<br>Butter=%{z}<extra></extra>\",\"hovertext\":[\"Albania\",\"Austria\",\"Belgium\",\"Bosnia and Herzegovina\",\"Bulgaria\",\"Croatia\",\"Cyprus\",\"Czech Republic\",\"Denmark\",\"Estonia\",\"Finland\",\"France\",\"Germany\",\"Hungary\",\"Iceland\",\"Ireland\",\"Italy\",\"Latvia\",\"Lithuania\",\"Luxembourg\",\"Macedonia, the former Yugoslav Republic of\",\"Malta\",\"Montenegro\",\"Netherlands\",\"Norway\",\"Poland\",\"Portugal\",\"Romania\",\"Serbia\",\"Slovakia\",\"Slovenia\",\"Spain\",\"Sweden\",\"Switzerland\",\"Turkey\",\"United Kingdom\"],\"locations\":[\"ALB\",\"AUT\",\"BEL\",\"BIH\",\"BGR\",\"HRV\",\"CYP\",\"CZE\",\"DNK\",\"EST\",\"FIN\",\"FRA\",\"DEU\",\"HUN\",\"ISL\",\"IRL\",\"ITA\",\"LVA\",\"LTU\",\"LUX\",\"MKD\",\"MLT\",\"MNE\",\"NLD\",\"NOR\",\"POL\",\"PRT\",\"ROU\",\"SRB\",\"SVK\",\"SVN\",\"ESP\",\"SWE\",\"CHE\",\"TUR\",\"GBR\"],\"name\":\"\",\"z\":[0.42,36.53,111.96,1.6,1.05,4.58,0.0,26.14,74.7,5.2,60.9,414.21,497.1,8.63,2.54,251.07,96.7,3.28,14.43,null,1.0,0.0,0.19,136.4,20.0,224.61,30.49,10.65,5.18,9.9,2.54,44.42,17.17,42.52,73.8,187.9],\"type\":\"choropleth\"}],                        {\"template\":{\"data\":{\"bar\":[{\"error_x\":{\"color\":\"#2a3f5f\"},\"error_y\":{\"color\":\"#2a3f5f\"},\"marker\":{\"line\":{\"color\":\"#E5ECF6\",\"width\":0.5},\"pattern\":{\"fillmode\":\"overlay\",\"size\":10,\"solidity\":0.2}},\"type\":\"bar\"}],\"barpolar\":[{\"marker\":{\"line\":{\"color\":\"#E5ECF6\",\"width\":0.5},\"pattern\":{\"fillmode\":\"overlay\",\"size\":10,\"solidity\":0.2}},\"type\":\"barpolar\"}],\"carpet\":[{\"aaxis\":{\"endlinecolor\":\"#2a3f5f\",\"gridcolor\":\"white\",\"linecolor\":\"white\",\"minorgridcolor\":\"white\",\"startlinecolor\":\"#2a3f5f\"},\"baxis\":{\"endlinecolor\":\"#2a3f5f\",\"gridcolor\":\"white\",\"linecolor\":\"white\",\"minorgridcolor\":\"white\",\"startlinecolor\":\"#2a3f5f\"},\"type\":\"carpet\"}],\"choropleth\":[{\"colorbar\":{\"outlinewidth\":0,\"ticks\":\"\"},\"type\":\"choropleth\"}],\"contour\":[{\"colorbar\":{\"outlinewidth\":0,\"ticks\":\"\"},\"colorscale\":[[0.0,\"#0d0887\"],[0.1111111111111111,\"#46039f\"],[0.2222222222222222,\"#7201a8\"],[0.3333333333333333,\"#9c179e\"],[0.4444444444444444,\"#bd3786\"],[0.5555555555555556,\"#d8576b\"],[0.6666666666666666,\"#ed7953\"],[0.7777777777777778,\"#fb9f3a\"],[0.8888888888888888,\"#fdca26\"],[1.0,\"#f0f921\"]],\"type\":\"contour\"}],\"contourcarpet\":[{\"colorbar\":{\"outlinewidth\":0,\"ticks\":\"\"},\"type\":\"contourcarpet\"}],\"heatmap\":[{\"colorbar\":{\"outlinewidth\":0,\"ticks\":\"\"},\"colorscale\":[[0.0,\"#0d0887\"],[0.1111111111111111,\"#46039f\"],[0.2222222222222222,\"#7201a8\"],[0.3333333333333333,\"#9c179e\"],[0.4444444444444444,\"#bd3786\"],[0.5555555555555556,\"#d8576b\"],[0.6666666666666666,\"#ed7953\"],[0.7777777777777778,\"#fb9f3a\"],[0.8888888888888888,\"#fdca26\"],[1.0,\"#f0f921\"]],\"type\":\"heatmap\"}],\"heatmapgl\":[{\"colorbar\":{\"outlinewidth\":0,\"ticks\":\"\"},\"colorscale\":[[0.0,\"#0d0887\"],[0.1111111111111111,\"#46039f\"],[0.2222222222222222,\"#7201a8\"],[0.3333333333333333,\"#9c179e\"],[0.4444444444444444,\"#bd3786\"],[0.5555555555555556,\"#d8576b\"],[0.6666666666666666,\"#ed7953\"],[0.7777777777777778,\"#fb9f3a\"],[0.8888888888888888,\"#fdca26\"],[1.0,\"#f0f921\"]],\"type\":\"heatmapgl\"}],\"histogram\":[{\"marker\":{\"pattern\":{\"fillmode\":\"overlay\",\"size\":10,\"solidity\":0.2}},\"type\":\"histogram\"}],\"histogram2d\":[{\"colorbar\":{\"outlinewidth\":0,\"ticks\":\"\"},\"colorscale\":[[0.0,\"#0d0887\"],[0.1111111111111111,\"#46039f\"],[0.2222222222222222,\"#7201a8\"],[0.3333333333333333,\"#9c179e\"],[0.4444444444444444,\"#bd3786\"],[0.5555555555555556,\"#d8576b\"],[0.6666666666666666,\"#ed7953\"],[0.7777777777777778,\"#fb9f3a\"],[0.8888888888888888,\"#fdca26\"],[1.0,\"#f0f921\"]],\"type\":\"histogram2d\"}],\"histogram2dcontour\":[{\"colorbar\":{\"outlinewidth\":0,\"ticks\":\"\"},\"colorscale\":[[0.0,\"#0d0887\"],[0.1111111111111111,\"#46039f\"],[0.2222222222222222,\"#7201a8\"],[0.3333333333333333,\"#9c179e\"],[0.4444444444444444,\"#bd3786\"],[0.5555555555555556,\"#d8576b\"],[0.6666666666666666,\"#ed7953\"],[0.7777777777777778,\"#fb9f3a\"],[0.8888888888888888,\"#fdca26\"],[1.0,\"#f0f921\"]],\"type\":\"histogram2dcontour\"}],\"mesh3d\":[{\"colorbar\":{\"outlinewidth\":0,\"ticks\":\"\"},\"type\":\"mesh3d\"}],\"parcoords\":[{\"line\":{\"colorbar\":{\"outlinewidth\":0,\"ticks\":\"\"}},\"type\":\"parcoords\"}],\"pie\":[{\"automargin\":true,\"type\":\"pie\"}],\"scatter\":[{\"marker\":{\"colorbar\":{\"outlinewidth\":0,\"ticks\":\"\"}},\"type\":\"scatter\"}],\"scatter3d\":[{\"line\":{\"colorbar\":{\"outlinewidth\":0,\"ticks\":\"\"}},\"marker\":{\"colorbar\":{\"outlinewidth\":0,\"ticks\":\"\"}},\"type\":\"scatter3d\"}],\"scattercarpet\":[{\"marker\":{\"colorbar\":{\"outlinewidth\":0,\"ticks\":\"\"}},\"type\":\"scattercarpet\"}],\"scattergeo\":[{\"marker\":{\"colorbar\":{\"outlinewidth\":0,\"ticks\":\"\"}},\"type\":\"scattergeo\"}],\"scattergl\":[{\"marker\":{\"colorbar\":{\"outlinewidth\":0,\"ticks\":\"\"}},\"type\":\"scattergl\"}],\"scattermapbox\":[{\"marker\":{\"colorbar\":{\"outlinewidth\":0,\"ticks\":\"\"}},\"type\":\"scattermapbox\"}],\"scatterpolar\":[{\"marker\":{\"colorbar\":{\"outlinewidth\":0,\"ticks\":\"\"}},\"type\":\"scatterpolar\"}],\"scatterpolargl\":[{\"marker\":{\"colorbar\":{\"outlinewidth\":0,\"ticks\":\"\"}},\"type\":\"scatterpolargl\"}],\"scatterternary\":[{\"marker\":{\"colorbar\":{\"outlinewidth\":0,\"ticks\":\"\"}},\"type\":\"scatterternary\"}],\"surface\":[{\"colorbar\":{\"outlinewidth\":0,\"ticks\":\"\"},\"colorscale\":[[0.0,\"#0d0887\"],[0.1111111111111111,\"#46039f\"],[0.2222222222222222,\"#7201a8\"],[0.3333333333333333,\"#9c179e\"],[0.4444444444444444,\"#bd3786\"],[0.5555555555555556,\"#d8576b\"],[0.6666666666666666,\"#ed7953\"],[0.7777777777777778,\"#fb9f3a\"],[0.8888888888888888,\"#fdca26\"],[1.0,\"#f0f921\"]],\"type\":\"surface\"}],\"table\":[{\"cells\":{\"fill\":{\"color\":\"#EBF0F8\"},\"line\":{\"color\":\"white\"}},\"header\":{\"fill\":{\"color\":\"#C8D4E3\"},\"line\":{\"color\":\"white\"}},\"type\":\"table\"}]},\"layout\":{\"annotationdefaults\":{\"arrowcolor\":\"#2a3f5f\",\"arrowhead\":0,\"arrowwidth\":1},\"autotypenumbers\":\"strict\",\"coloraxis\":{\"colorbar\":{\"outlinewidth\":0,\"ticks\":\"\"}},\"colorscale\":{\"diverging\":[[0,\"#8e0152\"],[0.1,\"#c51b7d\"],[0.2,\"#de77ae\"],[0.3,\"#f1b6da\"],[0.4,\"#fde0ef\"],[0.5,\"#f7f7f7\"],[0.6,\"#e6f5d0\"],[0.7,\"#b8e186\"],[0.8,\"#7fbc41\"],[0.9,\"#4d9221\"],[1,\"#276419\"]],\"sequential\":[[0.0,\"#0d0887\"],[0.1111111111111111,\"#46039f\"],[0.2222222222222222,\"#7201a8\"],[0.3333333333333333,\"#9c179e\"],[0.4444444444444444,\"#bd3786\"],[0.5555555555555556,\"#d8576b\"],[0.6666666666666666,\"#ed7953\"],[0.7777777777777778,\"#fb9f3a\"],[0.8888888888888888,\"#fdca26\"],[1.0,\"#f0f921\"]],\"sequentialminus\":[[0.0,\"#0d0887\"],[0.1111111111111111,\"#46039f\"],[0.2222222222222222,\"#7201a8\"],[0.3333333333333333,\"#9c179e\"],[0.4444444444444444,\"#bd3786\"],[0.5555555555555556,\"#d8576b\"],[0.6666666666666666,\"#ed7953\"],[0.7777777777777778,\"#fb9f3a\"],[0.8888888888888888,\"#fdca26\"],[1.0,\"#f0f921\"]]},\"colorway\":[\"#636efa\",\"#EF553B\",\"#00cc96\",\"#ab63fa\",\"#FFA15A\",\"#19d3f3\",\"#FF6692\",\"#B6E880\",\"#FF97FF\",\"#FECB52\"],\"font\":{\"color\":\"#2a3f5f\"},\"geo\":{\"bgcolor\":\"white\",\"lakecolor\":\"white\",\"landcolor\":\"#E5ECF6\",\"showlakes\":true,\"showland\":true,\"subunitcolor\":\"white\"},\"hoverlabel\":{\"align\":\"left\"},\"hovermode\":\"closest\",\"mapbox\":{\"style\":\"light\"},\"paper_bgcolor\":\"white\",\"plot_bgcolor\":\"#E5ECF6\",\"polar\":{\"angularaxis\":{\"gridcolor\":\"white\",\"linecolor\":\"white\",\"ticks\":\"\"},\"bgcolor\":\"#E5ECF6\",\"radialaxis\":{\"gridcolor\":\"white\",\"linecolor\":\"white\",\"ticks\":\"\"}},\"scene\":{\"xaxis\":{\"backgroundcolor\":\"#E5ECF6\",\"gridcolor\":\"white\",\"gridwidth\":2,\"linecolor\":\"white\",\"showbackground\":true,\"ticks\":\"\",\"zerolinecolor\":\"white\"},\"yaxis\":{\"backgroundcolor\":\"#E5ECF6\",\"gridcolor\":\"white\",\"gridwidth\":2,\"linecolor\":\"white\",\"showbackground\":true,\"ticks\":\"\",\"zerolinecolor\":\"white\"},\"zaxis\":{\"backgroundcolor\":\"#E5ECF6\",\"gridcolor\":\"white\",\"gridwidth\":2,\"linecolor\":\"white\",\"showbackground\":true,\"ticks\":\"\",\"zerolinecolor\":\"white\"}},\"shapedefaults\":{\"line\":{\"color\":\"#2a3f5f\"}},\"ternary\":{\"aaxis\":{\"gridcolor\":\"white\",\"linecolor\":\"white\",\"ticks\":\"\"},\"baxis\":{\"gridcolor\":\"white\",\"linecolor\":\"white\",\"ticks\":\"\"},\"bgcolor\":\"#E5ECF6\",\"caxis\":{\"gridcolor\":\"white\",\"linecolor\":\"white\",\"ticks\":\"\"}},\"title\":{\"x\":0.05},\"xaxis\":{\"automargin\":true,\"gridcolor\":\"white\",\"linecolor\":\"white\",\"ticks\":\"\",\"title\":{\"standoff\":15},\"zerolinecolor\":\"white\",\"zerolinewidth\":2},\"yaxis\":{\"automargin\":true,\"gridcolor\":\"white\",\"linecolor\":\"white\",\"ticks\":\"\",\"title\":{\"standoff\":15},\"zerolinecolor\":\"white\",\"zerolinewidth\":2}}},\"geo\":{\"domain\":{\"x\":[0.0,1.0],\"y\":[0.0,1.0]},\"center\":{},\"scope\":\"europe\"},\"coloraxis\":{\"colorbar\":{\"title\":{\"text\":\"Butter\"}},\"colorscale\":[[0.0,\"#0d0887\"],[0.1111111111111111,\"#46039f\"],[0.2222222222222222,\"#7201a8\"],[0.3333333333333333,\"#9c179e\"],[0.4444444444444444,\"#bd3786\"],[0.5555555555555556,\"#d8576b\"],[0.6666666666666666,\"#ed7953\"],[0.7777777777777778,\"#fb9f3a\"],[0.8888888888888888,\"#fdca26\"],[1.0,\"#f0f921\"]]},\"legend\":{\"tracegroupgap\":0},\"margin\":{\"t\":60},\"title\":{\"text\":\"Butter Produced - 2019\"}},                        {\"responsive\": true}                    ).then(function(){\n",
       "                            \n",
       "var gd = document.getElementById('8d9c330d-3c69-40ab-ac0d-52c3333b56cd');\n",
       "var x = new MutationObserver(function (mutations, observer) {{\n",
       "        var display = window.getComputedStyle(gd).display;\n",
       "        if (!display || display === 'none') {{\n",
       "            console.log([gd, 'removed!']);\n",
       "            Plotly.purge(gd);\n",
       "            observer.disconnect();\n",
       "        }}\n",
       "}});\n",
       "\n",
       "// Listen for the removal of the full notebook cells\n",
       "var notebookContainer = gd.closest('#notebook-container');\n",
       "if (notebookContainer) {{\n",
       "    x.observe(notebookContainer, {childList: true});\n",
       "}}\n",
       "\n",
       "// Listen for the clearing of the current output cell\n",
       "var outputEl = gd.closest('.output');\n",
       "if (outputEl) {{\n",
       "    x.observe(outputEl, {childList: true});\n",
       "}}\n",
       "\n",
       "                        })                };                });            </script>        </div>"
      ]
     },
     "metadata": {},
     "output_type": "display_data"
    }
   ],
   "source": [
    "fig = px.choropleth(x, \n",
    " locations=\"Code\", # colunm containing ISO 3166 country codes \n",
    " color=\"Butter\",                 \n",
    " hover_name=\"Country\", # column to display in hover information \n",
    " color_continuous_scale=px.colors.sequential.Plasma) \n",
    "\n",
    "fig.update_layout( \n",
    " # add a title text for the plot \n",
    " title_text = 'Butter Produced - 2019', \n",
    " geo_scope = 'europe' \n",
    "# can be set to north america | south america | africa | asia | europe | usa \n",
    ") \n",
    "\n",
    "fig.show() \n"
   ]
  },
  {
   "cell_type": "code",
   "execution_count": null,
   "id": "015ac208",
   "metadata": {},
   "outputs": [],
   "source": []
  }
 ],
 "metadata": {
  "kernelspec": {
   "display_name": "Python 3 (ipykernel)",
   "language": "python",
   "name": "python3"
  },
  "language_info": {
   "codemirror_mode": {
    "name": "ipython",
    "version": 3
   },
   "file_extension": ".py",
   "mimetype": "text/x-python",
   "name": "python",
   "nbconvert_exporter": "python",
   "pygments_lexer": "ipython3",
   "version": "3.9.12"
  }
 },
 "nbformat": 4,
 "nbformat_minor": 5
}
